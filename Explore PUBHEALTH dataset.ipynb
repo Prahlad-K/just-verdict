{
 "cells": [
  {
   "cell_type": "code",
   "execution_count": 73,
   "id": "b321cca7",
   "metadata": {},
   "outputs": [],
   "source": [
    "import pandas as pd\n",
    "import random"
   ]
  },
  {
   "cell_type": "code",
   "execution_count": 14,
   "id": "1cd8be95",
   "metadata": {},
   "outputs": [],
   "source": [
    "train = pd.read_csv('train.tsv',sep='\\t')\n",
    "test = pd.read_csv('test.tsv',sep='\\t')\n",
    "dev = pd.read_csv('dev.tsv', sep='\\t')"
   ]
  },
  {
   "cell_type": "code",
   "execution_count": 3,
   "id": "37905394",
   "metadata": {},
   "outputs": [
    {
     "data": {
      "text/html": [
       "<div>\n",
       "<style scoped>\n",
       "    .dataframe tbody tr th:only-of-type {\n",
       "        vertical-align: middle;\n",
       "    }\n",
       "\n",
       "    .dataframe tbody tr th {\n",
       "        vertical-align: top;\n",
       "    }\n",
       "\n",
       "    .dataframe thead th {\n",
       "        text-align: right;\n",
       "    }\n",
       "</style>\n",
       "<table border=\"1\" class=\"dataframe\">\n",
       "  <thead>\n",
       "    <tr style=\"text-align: right;\">\n",
       "      <th></th>\n",
       "      <th>claim_id</th>\n",
       "      <th>claim</th>\n",
       "      <th>date_published</th>\n",
       "      <th>explanation</th>\n",
       "      <th>fact_checkers</th>\n",
       "      <th>main_text</th>\n",
       "      <th>sources</th>\n",
       "      <th>label</th>\n",
       "      <th>subjects</th>\n",
       "    </tr>\n",
       "  </thead>\n",
       "  <tbody>\n",
       "    <tr>\n",
       "      <th>0</th>\n",
       "      <td>15661</td>\n",
       "      <td>\"The money the Clinton Foundation took from fr...</td>\n",
       "      <td>April 26, 2015</td>\n",
       "      <td>\"Gingrich said the Clinton Foundation \"\"took m...</td>\n",
       "      <td>Katie Sanders</td>\n",
       "      <td>\"Hillary Clinton is in the political crosshair...</td>\n",
       "      <td>https://www.wsj.com/articles/clinton-foundatio...</td>\n",
       "      <td>false</td>\n",
       "      <td>Foreign Policy, PunditFact, Newt Gingrich,</td>\n",
       "    </tr>\n",
       "    <tr>\n",
       "      <th>1</th>\n",
       "      <td>9893</td>\n",
       "      <td>Annual Mammograms May Have More False-Positives</td>\n",
       "      <td>October 18, 2011</td>\n",
       "      <td>This article reports on the results of a study...</td>\n",
       "      <td></td>\n",
       "      <td>While the financial costs of screening mammogr...</td>\n",
       "      <td></td>\n",
       "      <td>mixture</td>\n",
       "      <td>Screening,WebMD,women's health</td>\n",
       "    </tr>\n",
       "    <tr>\n",
       "      <th>2</th>\n",
       "      <td>11358</td>\n",
       "      <td>SBRT Offers Prostate Cancer Patients High Canc...</td>\n",
       "      <td>September 28, 2016</td>\n",
       "      <td>This news release describes five-year outcomes...</td>\n",
       "      <td>Mary Chris Jaklevic,Steven J. Atlas, MD, MPH,K...</td>\n",
       "      <td>The news release quotes lead researcher Robert...</td>\n",
       "      <td>https://www.healthnewsreview.org/wp-content/up...</td>\n",
       "      <td>mixture</td>\n",
       "      <td>Association/Society news release,Cancer</td>\n",
       "    </tr>\n",
       "    <tr>\n",
       "      <th>3</th>\n",
       "      <td>10166</td>\n",
       "      <td>Study: Vaccine for Breast, Ovarian Cancer Has ...</td>\n",
       "      <td>November 8, 2011</td>\n",
       "      <td>While the story does many things well, the ove...</td>\n",
       "      <td></td>\n",
       "      <td>The story does discuss costs, but the framing ...</td>\n",
       "      <td>http://clinicaltrials.gov/ct2/results?term=can...</td>\n",
       "      <td>true</td>\n",
       "      <td>Cancer,WebMD,women's health</td>\n",
       "    </tr>\n",
       "    <tr>\n",
       "      <th>4</th>\n",
       "      <td>11276</td>\n",
       "      <td>Some appendicitis cases may not require ’emerg...</td>\n",
       "      <td>September 20, 2010</td>\n",
       "      <td>We really don’t understand why only a handful ...</td>\n",
       "      <td></td>\n",
       "      <td>\"Although the story didn’t cite the cost of ap...</td>\n",
       "      <td></td>\n",
       "      <td>true</td>\n",
       "      <td></td>\n",
       "    </tr>\n",
       "  </tbody>\n",
       "</table>\n",
       "</div>"
      ],
      "text/plain": [
       "  claim_id                                              claim  \\\n",
       "0    15661  \"The money the Clinton Foundation took from fr...   \n",
       "1     9893    Annual Mammograms May Have More False-Positives   \n",
       "2    11358  SBRT Offers Prostate Cancer Patients High Canc...   \n",
       "3    10166  Study: Vaccine for Breast, Ovarian Cancer Has ...   \n",
       "4    11276  Some appendicitis cases may not require ’emerg...   \n",
       "\n",
       "       date_published                                        explanation  \\\n",
       "0      April 26, 2015  \"Gingrich said the Clinton Foundation \"\"took m...   \n",
       "1    October 18, 2011  This article reports on the results of a study...   \n",
       "2  September 28, 2016  This news release describes five-year outcomes...   \n",
       "3    November 8, 2011  While the story does many things well, the ove...   \n",
       "4  September 20, 2010  We really don’t understand why only a handful ...   \n",
       "\n",
       "                                       fact_checkers  \\\n",
       "0                                      Katie Sanders   \n",
       "1                                                      \n",
       "2  Mary Chris Jaklevic,Steven J. Atlas, MD, MPH,K...   \n",
       "3                                                      \n",
       "4                                                      \n",
       "\n",
       "                                           main_text  \\\n",
       "0  \"Hillary Clinton is in the political crosshair...   \n",
       "1  While the financial costs of screening mammogr...   \n",
       "2  The news release quotes lead researcher Robert...   \n",
       "3  The story does discuss costs, but the framing ...   \n",
       "4  \"Although the story didn’t cite the cost of ap...   \n",
       "\n",
       "                                             sources    label  \\\n",
       "0  https://www.wsj.com/articles/clinton-foundatio...    false   \n",
       "1                                                     mixture   \n",
       "2  https://www.healthnewsreview.org/wp-content/up...  mixture   \n",
       "3  http://clinicaltrials.gov/ct2/results?term=can...     true   \n",
       "4                                                        true   \n",
       "\n",
       "                                      subjects  \n",
       "0  Foreign Policy, PunditFact, Newt Gingrich,   \n",
       "1               Screening,WebMD,women's health  \n",
       "2      Association/Society news release,Cancer  \n",
       "3                  Cancer,WebMD,women's health  \n",
       "4                                               "
      ]
     },
     "execution_count": 3,
     "metadata": {},
     "output_type": "execute_result"
    }
   ],
   "source": [
    "train.head()"
   ]
  },
  {
   "cell_type": "code",
   "execution_count": 4,
   "id": "4581c160",
   "metadata": {},
   "outputs": [
    {
     "data": {
      "text/html": [
       "<div>\n",
       "<style scoped>\n",
       "    .dataframe tbody tr th:only-of-type {\n",
       "        vertical-align: middle;\n",
       "    }\n",
       "\n",
       "    .dataframe tbody tr th {\n",
       "        vertical-align: top;\n",
       "    }\n",
       "\n",
       "    .dataframe thead th {\n",
       "        text-align: right;\n",
       "    }\n",
       "</style>\n",
       "<table border=\"1\" class=\"dataframe\">\n",
       "  <thead>\n",
       "    <tr style=\"text-align: right;\">\n",
       "      <th></th>\n",
       "      <th>claim_id</th>\n",
       "      <th>claim</th>\n",
       "      <th>date_published</th>\n",
       "      <th>explanation</th>\n",
       "      <th>fact_checkers</th>\n",
       "      <th>main_text</th>\n",
       "      <th>sources</th>\n",
       "      <th>label</th>\n",
       "      <th>subjects</th>\n",
       "    </tr>\n",
       "  </thead>\n",
       "  <tbody>\n",
       "    <tr>\n",
       "      <th>count</th>\n",
       "      <td>9832</td>\n",
       "      <td>9824</td>\n",
       "      <td>7895</td>\n",
       "      <td>9824</td>\n",
       "      <td>9821</td>\n",
       "      <td>9806</td>\n",
       "      <td>9804</td>\n",
       "      <td>9805</td>\n",
       "      <td>9804</td>\n",
       "    </tr>\n",
       "    <tr>\n",
       "      <th>unique</th>\n",
       "      <td>9817</td>\n",
       "      <td>9824</td>\n",
       "      <td>3245</td>\n",
       "      <td>9675</td>\n",
       "      <td>1980</td>\n",
       "      <td>9589</td>\n",
       "      <td>5063</td>\n",
       "      <td>5</td>\n",
       "      <td>5811</td>\n",
       "    </tr>\n",
       "    <tr>\n",
       "      <th>top</th>\n",
       "      <td>\"</td>\n",
       "      <td>\"The money the Clinton Foundation took from fr...</td>\n",
       "      <td>March 17, 2015</td>\n",
       "      <td>false</td>\n",
       "      <td></td>\n",
       "      <td>Doctors in India have been successful in treat...</td>\n",
       "      <td></td>\n",
       "      <td>true</td>\n",
       "      <td>Health News</td>\n",
       "    </tr>\n",
       "    <tr>\n",
       "      <th>freq</th>\n",
       "      <td>9</td>\n",
       "      <td>1</td>\n",
       "      <td>117</td>\n",
       "      <td>3</td>\n",
       "      <td>2222</td>\n",
       "      <td>12</td>\n",
       "      <td>4550</td>\n",
       "      <td>5078</td>\n",
       "      <td>1242</td>\n",
       "    </tr>\n",
       "  </tbody>\n",
       "</table>\n",
       "</div>"
      ],
      "text/plain": [
       "       claim_id                                              claim  \\\n",
       "count      9832                                               9824   \n",
       "unique     9817                                               9824   \n",
       "top           \"  \"The money the Clinton Foundation took from fr...   \n",
       "freq          9                                                  1   \n",
       "\n",
       "        date_published explanation fact_checkers  \\\n",
       "count             7895        9824          9821   \n",
       "unique            3245        9675          1980   \n",
       "top     March 17, 2015       false                 \n",
       "freq               117           3          2222   \n",
       "\n",
       "                                                main_text sources label  \\\n",
       "count                                                9806    9804  9805   \n",
       "unique                                               9589    5063     5   \n",
       "top     Doctors in India have been successful in treat...          true   \n",
       "freq                                                   12    4550  5078   \n",
       "\n",
       "           subjects  \n",
       "count          9804  \n",
       "unique         5811  \n",
       "top     Health News  \n",
       "freq           1242  "
      ]
     },
     "execution_count": 4,
     "metadata": {},
     "output_type": "execute_result"
    }
   ],
   "source": [
    "train.describe()"
   ]
  },
  {
   "cell_type": "code",
   "execution_count": 9,
   "id": "ea1ba322",
   "metadata": {},
   "outputs": [
    {
     "name": "stdout",
     "output_type": "stream",
     "text": [
      "\"The money the Clinton Foundation took from from foreign governments while Hillary Clinton was secretary of state \"\"is clearly illegal. … The Constitution says you can’t take this stuff.\"\n"
     ]
    }
   ],
   "source": [
    "print(train[:1]['claim'][0])"
   ]
  },
  {
   "cell_type": "code",
   "execution_count": 11,
   "id": "abad06ea",
   "metadata": {},
   "outputs": [
    {
     "name": "stdout",
     "output_type": "stream",
     "text": [
      "Katie Sanders\n"
     ]
    }
   ],
   "source": [
    "print(train[:1]['fact_checkers'][0])"
   ]
  },
  {
   "cell_type": "code",
   "execution_count": 30,
   "id": "c7a5cf35",
   "metadata": {},
   "outputs": [
    {
     "name": "stdout",
     "output_type": "stream",
     "text": [
      "\"Hillary Clinton is in the political crosshairs as the author of a new book alleges improper financial ties between her public and personal life. At issue in conservative author Peter Schweizer’s forthcoming book Clinton Cash are donations from foreign governments to the Clinton Foundation during the four years she served as secretary of state. George Stephanopoulos used an interview with Schweizer on ABC This Week to point out what other nonpartisan journalists have found: There is no \"\"smoking gun\"\" showing that donations to the foundation influenced her foreign policy decisions. Still, former Republican House Speaker Newt Gingrich says the donations are \"\"clearly illegal\"\" under federal law. In his view, a donation by a foreign government to the Clinton Foundation while Clinton was secretary of state is the same as money sent directly to her, he said, even though she did not join the foundation’s board until she left her post. \"\"The Constitution of the United States says you cannot take money from foreign governments without explicit permission of the Congress. They wrote that in there because they knew the danger of corrupting our system by foreign money is enormous,\"\" Gingrich said. \"\"You had a sitting secretary of state whose husband radically increased his speech fees, you have a whole series of dots on the wall now where people gave millions of dollars — oh, by the way, they happen to get taken care of by the State Department.\"\" He continued, \"\"My point is they took money from foreign governments while she was secretary of State. That is clearly illegal.\"\" PunditFact wanted to know if a criminal case against Clinton is that open and shut. Is what happened \"\"clearly illegal\"\"? A spokesman for the Clinton Foundation certainly disagreed, calling Gingrich’s accusation \"\"a baseless leap\"\" because Clinton was not part of her husband’s foundation while serving as a senator or secretary of state. We did not hear from Gingrich by our deadline. Foundation basics Former President Clinton started the William J. Clinton Foundation in 2001, the year after Hillary Clinton won her first term as a New York senator. The foundation works with non-governmental organizations, the private sector and governments around the world on health, anti-poverty, HIV/AIDS and climate change initiatives. Spokesman Craig Minassian said it’s reasonable for the foundation to accept money from foreign governments because of the global scope of its programs, and the donations are usually in the form of tailored grants for specific missions. Hillary Clinton was not part of her husband’s foundation while she was a senator or secretary of state. Her appointment to the latter post required Senate confirmation and came with an agreement between the White House and Clinton Foundation that the foundation would be more transparent about its donors. According to the 2008 memorandum of understanding, the foundation would release information behind new donations and could continue to collect donations from countries with which it had existing relationships or running grant programs. If countries with existing contributions significantly stepped up their contributions, or if a new foreign government wanted to donate, the State Department would have to approve. Clinton took an active role in fundraising when she left the State Department and the foundation became the Bill, Hillary & Chelsea Clinton Foundation in 2013. But she left the board when she announced her run for the presidency in April 2015. The Emoluments Clause So how does Gingrich come up with the claim that Clinton Foundation donations are \"\"clearly illegal\"\" and unconstitutional? The answer is something known as the Emoluments Clause. A few conservative websites have made similar arguments in recent days, including the Federalist blog. The Emoluments Clause, found in Article 1, Section 9 of the Constitution, reads in part: \"\"No Title of Nobility shall be granted by the United States: And no Person holding any Office of Profit or Trust under them, shall, without the Consent of the Congress, accept of any present, Emolument, Office, or Title, of any kind whatever, from any King, Prince, or foreign State.\"\" The framers came up with this clause to prevent the government and leaders from granting or receiving titles of nobility and to keep leaders free of external influence. (An emolument, per Merriam-Webster Dictionary, is \"\"the returns arising from office or employment usually in the form of compensation or perquisites.\"\") Lest you think the law is no longer relevant, the Pentagon ethics office in 2013 warned employees the \"\"little known provision\"\" applies to all federal employees and military retirees. There’s no mention of spouses in the memo. J. Peter Pham, director of the Atlantic Council’s Africa Center, said interpretation of the clause has evolved since its adoption at the Constitutional Convention, when the primary concern was about overseas diplomats not seeking gifts from foreign powers they were dealing with. The Defense Department memo, in his view, goes beyond what the framers envisioned for the part of the memo dealing with gifts. \"\"I think that, aside from the unambiguous parts, the burden would be on those invoking the clause to show actual causality that would be in violation of the clause,\"\" Pham said. Expert discussion We asked seven different constitutional law experts on whether the Clinton Foundation foreign donations were \"\"clearly illegal\"\" and a violation of the Emoluments Clause. We did not reach a consensus with their responses, though a majority thought the layers of separation between the foundation and Hillary Clinton work against Gingrich. The American system often distinguishes between public officers and private foundations, \"\"even if real life tends to blur some of those distinctions,\"\" said American University law professor Steve Vladeck. Vladeck added that the Emoluments Clause has never been enforced. \"\"I very much doubt that the first case in its history would be because a foreign government made charitable donations to a private foundation controlled by a government employee’s relative,\"\" he said. \"\"Gingrich may think that giving money to the Clinton Foundation and giving money to then-Secretary Clinton are the same thing. Unfortunately for him, for purposes of federal regulations, statutes, and the Constitution, they’re formally — and, thus, legally — distinct.\"\" Robert Delahunty, a University of St. Thomas constitutional law professor who worked in the Justice Department’s Office of Legal Counsel from 1989 to 2003, also called Gingrich’s link between Clinton and the foreign governments’ gifts to the Clinton Foundation as \"\"implausible, and in any case I don’t think we have the facts to support it.\"\" \"\"The truth is that we establish corporate bodies like the Clinton Foundation because the law endows these entities with a separate and distinct legal personhood,\"\" Delahunty said. John Harrison, University of Virginia law professor and former deputy assistant attorney general in the Office of Legal Counsel from 1990 to 1993, pointed to the Foreign Gifts Act, 5 U.S.C. 7432, which sets rules for how the Emoluments Clause should work in practice. The statute spells out the minimal value for acceptable gifts, and says it applies to spouses of the individuals covered, but \"\"it doesn’t say anything about receipt of foreign gifts by other entities such as the Clinton Foundation.\"\" \"\"I don’t know whether there’s any other provision of federal law that would treat a foreign gift to the foundation as having made to either of the Clintons personally,\"\" Harrison said, who added that agencies have their own supplemental rules for this section, and he did not know if the State Department addressed this. Other experts on the libertarian side of the scale thought Gingrich was more right in his assertion. Clinton violates the clause because of its intentionally broad phrasing about gifts of \"\"any kind whatever,\"\" which would cover indirect gifts via the foundation, said Dave Kopel, a constitutional law professor at Denver University and research director at the libertarian Independence Institute. Kopel also brought up bribery statutes, which would require that a gift had some influence in Clinton’s decision while secretary of state. Delahunty thought Kopel’s reasoning would have \"\"strange consequences,\"\" such as whether a state-owned airline flying Bill Clinton to a conference of former heads of state counted as a gift to Hillary Clinton. Our ruling Gingrich said the Clinton Foundation \"\"took money from from foreign governments while (Hillary Clinton) was secretary of state. It is clearly illegal. … The Constitution says you can’t take this stuff.\"\" A clause in the Constitution does prohibit U.S. officials such as former Secretary of State Hillary Clinton from receiving gifts, or emoluments, from foreign governments. But the gifts in this case were donations from foreign governments that went to the Clinton Foundation, not Hillary Clinton. She was not part of the foundation her husband founded while she was secretary of state. Does that violate the Constitution? Some libertarian-minded constitutional law experts say it very well could. Others are skeptical. What’s clear is there is room for ambiguity, and the donations are anything but \"\"clearly illegal.\"\" The reality is this a hazy part of U.S. constitutional law.\n"
     ]
    }
   ],
   "source": [
    "print(train[:1]['main_text'][0])"
   ]
  },
  {
   "cell_type": "code",
   "execution_count": 31,
   "id": "fc8e92fb",
   "metadata": {},
   "outputs": [
    {
     "name": "stdout",
     "output_type": "stream",
     "text": [
      "https://www.wsj.com/articles/clinton-foundation-defends-acceptance-of-foreign-donations-1424302856, https://www.washingtonpost.com/politics/for-clintons-speech-income-shows-how-their-wealth-is-intertwined-with-charity/2015/04/22/12709ec0-dc8d-11e4-a500-1c5bb1d8ff6a_story.html?tid=pm_politics_pop_b, https://www.politifact.com/truth-o-meter/statements/2009/oct/29/ginny-brown-waite/does-president-need-permission-congress-accept-nob/, https://www.politifact.com/truth-o-meter/statements/2015/feb/26/american-crossroads/conservative-group-claims-hillary-clintons-foundat/, http://thefederalist.com/2015/03/02/the-u-s-constitution-actually-bans-hillarys-foreign-government-payola/, https://www.wsj.com/articles/foreign-government-gifts-to-clinton-foundation-on-the-rise-1424223031, https://www.washingtonpost.com/politics/foreign-governments-gave-millions-to-foundation-while-clinton-was-at-state-dept/2015/02/25/31937c1e-bc3f-11e4-8668-4e7ba8439ca6_story.html, https://www.politifact.com/truth-o-meter/statements/2014/apr/01/facebook-posts/meme-says-barack-obamas-acceptance-islamic-order-a/, https://www.nytimes.com/2015/04/20/us/politics/new-book-clinton-cash-questions-foreign-donations-to-foundation.html?&assetType=nyt_now\n"
     ]
    }
   ],
   "source": [
    "print(train[:1]['sources'][0])"
   ]
  },
  {
   "cell_type": "code",
   "execution_count": 32,
   "id": "324aeb05",
   "metadata": {},
   "outputs": [
    {
     "name": "stdout",
     "output_type": "stream",
     "text": [
      "\"Gingrich said the Clinton Foundation \"\"took money from from foreign governments while (Hillary Clinton) was secretary of state. It is clearly illegal. … The Constitution says you can’t take this stuff.\"\" A clause in the Constitution does prohibit U.S. officials such as former Secretary of State Hillary Clinton from receiving gifts, or emoluments, from foreign governments. But the gifts in this case were donations from foreign governments that went to the Clinton Foundation, not Hillary Clinton. She was not part of the foundation her husband founded while she was secretary of state. Does that violate the Constitution? Some libertarian-minded constitutional law experts say it very well could. Others are skeptical. What’s clear is there is room for ambiguity, and the donations are anything but \"\"clearly illegal.\"\" The reality is this a hazy part of U.S. constitutional law. \n"
     ]
    }
   ],
   "source": [
    "print(train[:1]['explanation'][0])"
   ]
  },
  {
   "cell_type": "code",
   "execution_count": 13,
   "id": "a425bf85",
   "metadata": {},
   "outputs": [
    {
     "data": {
      "text/plain": [
       "count                                                  9806\n",
       "unique                                                 9589\n",
       "top       Doctors in India have been successful in treat...\n",
       "freq                                                     12\n",
       "Name: main_text, dtype: object"
      ]
     },
     "execution_count": 13,
     "metadata": {},
     "output_type": "execute_result"
    }
   ],
   "source": [
    "train['main_text'].describe()"
   ]
  },
  {
   "cell_type": "code",
   "execution_count": 26,
   "id": "fa3b9640",
   "metadata": {},
   "outputs": [],
   "source": [
    "train['main_text_tokens'] = train['main_text'].apply(lambda n: len(str(n).split()))"
   ]
  },
  {
   "cell_type": "code",
   "execution_count": 27,
   "id": "c27bff72",
   "metadata": {},
   "outputs": [
    {
     "data": {
      "text/plain": [
       "count    9832.000000\n",
       "mean      711.883645\n",
       "std       513.189822\n",
       "min         1.000000\n",
       "25%       377.000000\n",
       "50%       607.000000\n",
       "75%       914.000000\n",
       "max      7067.000000\n",
       "Name: main_text_tokens, dtype: float64"
      ]
     },
     "execution_count": 27,
     "metadata": {},
     "output_type": "execute_result"
    }
   ],
   "source": [
    "train['main_text_tokens'].describe()"
   ]
  },
  {
   "cell_type": "code",
   "execution_count": 29,
   "id": "06da0a18",
   "metadata": {},
   "outputs": [
    {
     "data": {
      "text/html": [
       "<div>\n",
       "<style scoped>\n",
       "    .dataframe tbody tr th:only-of-type {\n",
       "        vertical-align: middle;\n",
       "    }\n",
       "\n",
       "    .dataframe tbody tr th {\n",
       "        vertical-align: top;\n",
       "    }\n",
       "\n",
       "    .dataframe thead th {\n",
       "        text-align: right;\n",
       "    }\n",
       "</style>\n",
       "<table border=\"1\" class=\"dataframe\">\n",
       "  <thead>\n",
       "    <tr style=\"text-align: right;\">\n",
       "      <th></th>\n",
       "      <th>claim_id</th>\n",
       "      <th>claim</th>\n",
       "      <th>date_published</th>\n",
       "      <th>explanation</th>\n",
       "      <th>fact_checkers</th>\n",
       "      <th>main_text</th>\n",
       "      <th>sources</th>\n",
       "      <th>label</th>\n",
       "      <th>subjects</th>\n",
       "      <th>main_text_tokens</th>\n",
       "    </tr>\n",
       "  </thead>\n",
       "  <tbody>\n",
       "    <tr>\n",
       "      <th>1347</th>\n",
       "      <td>8003</td>\n",
       "      <td>Facing shortages, India bets on China for swif...</td>\n",
       "      <td>March 31, 2020</td>\n",
       "      <td>India will buy ventilators and masks from Chin...</td>\n",
       "      <td>Neha Dasgupta, Aditya Kalra</td>\n",
       "      <td>\"India has recorded 1,251 cases of the coronav...</td>\n",
       "      <td>https://bit.ly/2Jr5Mb9</td>\n",
       "      <td>true</td>\n",
       "      <td>Health News</td>\n",
       "      <td>377</td>\n",
       "    </tr>\n",
       "    <tr>\n",
       "      <th>1865</th>\n",
       "      <td>9750</td>\n",
       "      <td>'Play This Video Game And Call Me In The Morning'</td>\n",
       "      <td>August 19, 2015</td>\n",
       "      <td>This story about video games being tested as t...</td>\n",
       "      <td>Andrew Holtz, MPH,A'ndrea Elyse Messer, MS, Ph...</td>\n",
       "      <td>There is no mention of the costs of the games....</td>\n",
       "      <td></td>\n",
       "      <td>false</td>\n",
       "      <td>ADHD,video games</td>\n",
       "      <td>377</td>\n",
       "    </tr>\n",
       "    <tr>\n",
       "      <th>4463</th>\n",
       "      <td>33320</td>\n",
       "      <td>Retired CIA agent Normand Hodges confessed on ...</td>\n",
       "      <td>April 16, 2015</td>\n",
       "      <td>World News Daily Report is a fake news site th...</td>\n",
       "      <td>David Mikkelson</td>\n",
       "      <td>On 25 March 2015, World News Daily Report publ...</td>\n",
       "      <td>http://www.donotlink.com/epe4, http://www.dono...</td>\n",
       "      <td>false</td>\n",
       "      <td>Media Matters, marilyn monroe, Not Necessarily...</td>\n",
       "      <td>377</td>\n",
       "    </tr>\n",
       "    <tr>\n",
       "      <th>5002</th>\n",
       "      <td>8504</td>\n",
       "      <td>Iran records 4,585 coronavirus deaths as restr...</td>\n",
       "      <td>April 13, 2020</td>\n",
       "      <td>Iran’s death toll from the coronavirus outbrea...</td>\n",
       "      <td></td>\n",
       "      <td>On Sunday, the government lifted a ban on trav...</td>\n",
       "      <td></td>\n",
       "      <td>true</td>\n",
       "      <td>Health News</td>\n",
       "      <td>377</td>\n",
       "    </tr>\n",
       "    <tr>\n",
       "      <th>5509</th>\n",
       "      <td>2361</td>\n",
       "      <td>Casual pot use causes brain abnormalities in t...</td>\n",
       "      <td>April 16, 2014</td>\n",
       "      <td>Young, casual marijuana smokers experience pot...</td>\n",
       "      <td>Alex Dobuzinskis</td>\n",
       "      <td>The study to be published on Wednesday in the ...</td>\n",
       "      <td></td>\n",
       "      <td>true</td>\n",
       "      <td>Health News</td>\n",
       "      <td>377</td>\n",
       "    </tr>\n",
       "    <tr>\n",
       "      <th>6325</th>\n",
       "      <td>5448</td>\n",
       "      <td>State Health Department calls for requiring ou...</td>\n",
       "      <td>NaN</td>\n",
       "      <td>State authorities called Thursday for a law re...</td>\n",
       "      <td>Mike Catalini</td>\n",
       "      <td>The call was included in a state Health Depart...</td>\n",
       "      <td></td>\n",
       "      <td>true</td>\n",
       "      <td>Health, General News, Disease outbreaks, New J...</td>\n",
       "      <td>377</td>\n",
       "    </tr>\n",
       "    <tr>\n",
       "      <th>8763</th>\n",
       "      <td>1659</td>\n",
       "      <td>China capital to roll out tough anti-smoking l...</td>\n",
       "      <td>May 31, 2015</td>\n",
       "      <td>Beijing will ban smoking in restaurants, offic...</td>\n",
       "      <td>Megha Rajagopalan</td>\n",
       "      <td>Health activists have pushed for years for str...</td>\n",
       "      <td></td>\n",
       "      <td>true</td>\n",
       "      <td>Health News</td>\n",
       "      <td>377</td>\n",
       "    </tr>\n",
       "    <tr>\n",
       "      <th>9263</th>\n",
       "      <td>29781</td>\n",
       "      <td>In 2017, 2018 or 2019, the U.S. Centers for Di...</td>\n",
       "      <td>May 28, 2019</td>\n",
       "      <td>Breaking13News.com routinely produces junk new...</td>\n",
       "      <td>Dan MacGuill</td>\n",
       "      <td>In May 2019, a nearly two-year-old hoax re-eme...</td>\n",
       "      <td></td>\n",
       "      <td>false</td>\n",
       "      <td>Junk News</td>\n",
       "      <td>377</td>\n",
       "    </tr>\n",
       "  </tbody>\n",
       "</table>\n",
       "</div>"
      ],
      "text/plain": [
       "     claim_id                                              claim  \\\n",
       "1347     8003  Facing shortages, India bets on China for swif...   \n",
       "1865     9750  'Play This Video Game And Call Me In The Morning'   \n",
       "4463    33320  Retired CIA agent Normand Hodges confessed on ...   \n",
       "5002     8504  Iran records 4,585 coronavirus deaths as restr...   \n",
       "5509     2361  Casual pot use causes brain abnormalities in t...   \n",
       "6325     5448  State Health Department calls for requiring ou...   \n",
       "8763     1659  China capital to roll out tough anti-smoking l...   \n",
       "9263    29781  In 2017, 2018 or 2019, the U.S. Centers for Di...   \n",
       "\n",
       "       date_published                                        explanation  \\\n",
       "1347   March 31, 2020  India will buy ventilators and masks from Chin...   \n",
       "1865  August 19, 2015  This story about video games being tested as t...   \n",
       "4463   April 16, 2015  World News Daily Report is a fake news site th...   \n",
       "5002   April 13, 2020  Iran’s death toll from the coronavirus outbrea...   \n",
       "5509   April 16, 2014  Young, casual marijuana smokers experience pot...   \n",
       "6325              NaN  State authorities called Thursday for a law re...   \n",
       "8763     May 31, 2015  Beijing will ban smoking in restaurants, offic...   \n",
       "9263     May 28, 2019  Breaking13News.com routinely produces junk new...   \n",
       "\n",
       "                                          fact_checkers  \\\n",
       "1347                        Neha Dasgupta, Aditya Kalra   \n",
       "1865  Andrew Holtz, MPH,A'ndrea Elyse Messer, MS, Ph...   \n",
       "4463                                    David Mikkelson   \n",
       "5002                                                      \n",
       "5509                                   Alex Dobuzinskis   \n",
       "6325                                      Mike Catalini   \n",
       "8763                                  Megha Rajagopalan   \n",
       "9263                                       Dan MacGuill   \n",
       "\n",
       "                                              main_text  \\\n",
       "1347  \"India has recorded 1,251 cases of the coronav...   \n",
       "1865  There is no mention of the costs of the games....   \n",
       "4463  On 25 March 2015, World News Daily Report publ...   \n",
       "5002  On Sunday, the government lifted a ban on trav...   \n",
       "5509  The study to be published on Wednesday in the ...   \n",
       "6325  The call was included in a state Health Depart...   \n",
       "8763  Health activists have pushed for years for str...   \n",
       "9263  In May 2019, a nearly two-year-old hoax re-eme...   \n",
       "\n",
       "                                                sources  label  \\\n",
       "1347                             https://bit.ly/2Jr5Mb9   true   \n",
       "1865                                                     false   \n",
       "4463  http://www.donotlink.com/epe4, http://www.dono...  false   \n",
       "5002                                                      true   \n",
       "5509                                                      true   \n",
       "6325                                                      true   \n",
       "8763                                                      true   \n",
       "9263                                                     false   \n",
       "\n",
       "                                               subjects  main_text_tokens  \n",
       "1347                                        Health News               377  \n",
       "1865                                   ADHD,video games               377  \n",
       "4463  Media Matters, marilyn monroe, Not Necessarily...               377  \n",
       "5002                                        Health News               377  \n",
       "5509                                        Health News               377  \n",
       "6325  Health, General News, Disease outbreaks, New J...               377  \n",
       "8763                                        Health News               377  \n",
       "9263                                          Junk News               377  "
      ]
     },
     "execution_count": 29,
     "metadata": {},
     "output_type": "execute_result"
    }
   ],
   "source": [
    "train[train[\"main_text_tokens\"]==377]"
   ]
  },
  {
   "cell_type": "code",
   "execution_count": 5,
   "metadata": {},
   "outputs": [
    {
     "data": {
      "text/html": [
       "<div>\n",
       "<style scoped>\n",
       "    .dataframe tbody tr th:only-of-type {\n",
       "        vertical-align: middle;\n",
       "    }\n",
       "\n",
       "    .dataframe tbody tr th {\n",
       "        vertical-align: top;\n",
       "    }\n",
       "\n",
       "    .dataframe thead th {\n",
       "        text-align: right;\n",
       "    }\n",
       "</style>\n",
       "<table border=\"1\" class=\"dataframe\">\n",
       "  <thead>\n",
       "    <tr style=\"text-align: right;\">\n",
       "      <th></th>\n",
       "      <th>claim_id</th>\n",
       "      <th>claim</th>\n",
       "      <th>date_published</th>\n",
       "      <th>explanation</th>\n",
       "      <th>fact_checkers</th>\n",
       "      <th>main_text</th>\n",
       "      <th>sources</th>\n",
       "      <th>label</th>\n",
       "      <th>subjects</th>\n",
       "    </tr>\n",
       "  </thead>\n",
       "  <tbody>\n",
       "    <tr>\n",
       "      <th>count</th>\n",
       "      <td>9832</td>\n",
       "      <td>9824</td>\n",
       "      <td>7895</td>\n",
       "      <td>9824</td>\n",
       "      <td>9821</td>\n",
       "      <td>9806</td>\n",
       "      <td>9804</td>\n",
       "      <td>9805</td>\n",
       "      <td>9804</td>\n",
       "    </tr>\n",
       "    <tr>\n",
       "      <th>unique</th>\n",
       "      <td>9817</td>\n",
       "      <td>9824</td>\n",
       "      <td>3245</td>\n",
       "      <td>9675</td>\n",
       "      <td>1980</td>\n",
       "      <td>9589</td>\n",
       "      <td>5063</td>\n",
       "      <td>5</td>\n",
       "      <td>5811</td>\n",
       "    </tr>\n",
       "    <tr>\n",
       "      <th>top</th>\n",
       "      <td>\"</td>\n",
       "      <td>\"The money the Clinton Foundation took from fr...</td>\n",
       "      <td>March 17, 2015</td>\n",
       "      <td>false</td>\n",
       "      <td></td>\n",
       "      <td>Doctors in India have been successful in treat...</td>\n",
       "      <td></td>\n",
       "      <td>true</td>\n",
       "      <td>Health News</td>\n",
       "    </tr>\n",
       "    <tr>\n",
       "      <th>freq</th>\n",
       "      <td>9</td>\n",
       "      <td>1</td>\n",
       "      <td>117</td>\n",
       "      <td>3</td>\n",
       "      <td>2222</td>\n",
       "      <td>12</td>\n",
       "      <td>4550</td>\n",
       "      <td>5078</td>\n",
       "      <td>1242</td>\n",
       "    </tr>\n",
       "  </tbody>\n",
       "</table>\n",
       "</div>"
      ],
      "text/plain": [
       "       claim_id                                              claim  \\\n",
       "count      9832                                               9824   \n",
       "unique     9817                                               9824   \n",
       "top           \"  \"The money the Clinton Foundation took from fr...   \n",
       "freq          9                                                  1   \n",
       "\n",
       "        date_published explanation fact_checkers  \\\n",
       "count             7895        9824          9821   \n",
       "unique            3245        9675          1980   \n",
       "top     March 17, 2015       false                 \n",
       "freq               117           3          2222   \n",
       "\n",
       "                                                main_text sources label  \\\n",
       "count                                                9806    9804  9805   \n",
       "unique                                               9589    5063     5   \n",
       "top     Doctors in India have been successful in treat...          true   \n",
       "freq                                                   12    4550  5078   \n",
       "\n",
       "           subjects  \n",
       "count          9804  \n",
       "unique         5811  \n",
       "top     Health News  \n",
       "freq           1242  "
      ]
     },
     "execution_count": 5,
     "metadata": {},
     "output_type": "execute_result"
    }
   ],
   "source": [
    "train.describe()"
   ]
  },
  {
   "cell_type": "code",
   "execution_count": 6,
   "metadata": {},
   "outputs": [
    {
     "data": {
      "text/plain": [
       "['claim',\n",
       " 'date_published',\n",
       " 'explanation',\n",
       " 'fact_checkers',\n",
       " 'main_text',\n",
       " 'sources',\n",
       " 'label',\n",
       " 'subjects']"
      ]
     },
     "execution_count": 6,
     "metadata": {},
     "output_type": "execute_result"
    }
   ],
   "source": [
    "train.columns[train.isna().any()].tolist()"
   ]
  },
  {
   "cell_type": "code",
   "execution_count": 12,
   "metadata": {},
   "outputs": [
    {
     "data": {
      "text/plain": [
       "0"
      ]
     },
     "execution_count": 12,
     "metadata": {},
     "output_type": "execute_result"
    }
   ],
   "source": [
    "train['claim'].isnull().sum()"
   ]
  },
  {
   "cell_type": "code",
   "execution_count": 18,
   "metadata": {},
   "outputs": [
    {
     "data": {
      "text/plain": [
       "26"
      ]
     },
     "execution_count": 18,
     "metadata": {},
     "output_type": "execute_result"
    }
   ],
   "source": [
    "train['main_text'].isnull().sum()"
   ]
  },
  {
   "cell_type": "code",
   "execution_count": 10,
   "metadata": {},
   "outputs": [],
   "source": [
    "train = train.dropna(subset=['claim', 'main_text'])"
   ]
  },
  {
   "cell_type": "code",
   "execution_count": 15,
   "metadata": {},
   "outputs": [
    {
     "data": {
      "text/plain": [
       "label\n",
       "true        5078\n",
       "false       3001\n",
       "mixture     1434\n",
       "unproven     291\n",
       "snopes         1\n",
       "Name: count, dtype: int64"
      ]
     },
     "execution_count": 15,
     "metadata": {},
     "output_type": "execute_result"
    }
   ],
   "source": [
    "train['label'].value_counts()"
   ]
  },
  {
   "cell_type": "code",
   "execution_count": 16,
   "metadata": {},
   "outputs": [
    {
     "data": {
      "text/plain": [
       "label\n",
       "true        599\n",
       "false       388\n",
       "mixture     201\n",
       "unproven     45\n",
       "Name: count, dtype: int64"
      ]
     },
     "execution_count": 16,
     "metadata": {},
     "output_type": "execute_result"
    }
   ],
   "source": [
    "test['label'].value_counts()"
   ]
  },
  {
   "cell_type": "code",
   "execution_count": 17,
   "metadata": {},
   "outputs": [
    {
     "data": {
      "text/plain": [
       "label\n",
       "true                                             629\n",
       "false                                            380\n",
       "mixture                                          164\n",
       "unproven                                          41\n",
       "National, Candidate Biography, Donald Trump,       1\n",
       "Name: count, dtype: int64"
      ]
     },
     "execution_count": 17,
     "metadata": {},
     "output_type": "execute_result"
    }
   ],
   "source": [
    "dev['label'].value_counts()"
   ]
  },
  {
   "cell_type": "code",
   "execution_count": 19,
   "metadata": {},
   "outputs": [
    {
     "name": "stdout",
     "output_type": "stream",
     "text": [
      "count    9832.000000\n",
      "mean       13.935720\n",
      "std        15.676614\n",
      "min         1.000000\n",
      "25%         8.000000\n",
      "50%        11.000000\n",
      "75%        17.000000\n",
      "max       779.000000\n",
      "Name: claim_tokens, dtype: float64\n",
      "count    9832.000000\n",
      "mean      711.883645\n",
      "std       513.189822\n",
      "min         1.000000\n",
      "25%       377.000000\n",
      "50%       607.000000\n",
      "75%       914.000000\n",
      "max      7067.000000\n",
      "Name: main_text_tokens, dtype: float64\n",
      "count    9832.000000\n",
      "mean       77.910293\n",
      "std        89.821493\n",
      "min         0.000000\n",
      "25%        25.000000\n",
      "50%        38.000000\n",
      "75%        92.000000\n",
      "max       671.000000\n",
      "Name: explanation_tokens, dtype: float64\n"
     ]
    }
   ],
   "source": [
    "def get_stats(train, columns):\n",
    "\n",
    "    for column in columns:\n",
    "        train[f'{column}_tokens'] = train[column].apply(lambda n: len(str(n).split()))\n",
    "        print(train[f'{column}_tokens'].describe())\n",
    "\n",
    "\n",
    "get_stats(train, columns=['claim', 'main_text', 'explanation'])"
   ]
  },
  {
   "cell_type": "code",
   "execution_count": null,
   "id": "f4138fa5",
   "metadata": {},
   "outputs": [],
   "source": [
    "train = pd.read_csv('train.tsv',sep='\\t')\n",
    "dev = pd.read_csv('dev.tsv', sep='\\t')\n",
    "test = pd.read_csv('test.tsv',sep='\\t')\n",
    "\n",
    "train_df = train.dropna(subset=['claim', 'main_text'])\n",
    "dev_df = dev.dropna(subset=['claim', 'main_text'])\n",
    "test_df = test.dropna(subset=['claim', 'main_text'])"
   ]
  },
  {
   "cell_type": "code",
   "execution_count": null,
   "id": "e35f7dd6",
   "metadata": {},
   "outputs": [],
   "source": [
    "data_df = pd.concat([train_df, dev_df, test_df])\n",
    "data_df.to_pickle('./data/PUBHEALTH/data.pkl')"
   ]
  }
 ],
 "metadata": {
  "kernelspec": {
   "display_name": "Python 3 (ipykernel)",
   "language": "python",
   "name": "python3"
  },
  "language_info": {
   "codemirror_mode": {
    "name": "ipython",
    "version": 3
   },
   "file_extension": ".py",
   "mimetype": "text/x-python",
   "name": "python",
   "nbconvert_exporter": "python",
   "pygments_lexer": "ipython3",
   "version": "3.11.0"
  }
 },
 "nbformat": 4,
 "nbformat_minor": 5
}
